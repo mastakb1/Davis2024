{
 "cells": [
  {
   "cell_type": "code",
   "execution_count": 4,
   "id": "a528b5c1-0fbd-42be-baae-aaea37670e6f",
   "metadata": {
    "tags": []
   },
   "outputs": [],
   "source": [
    "import requests \n",
    "from bs4 import BeautifulSoup \n",
    "import pandas as pd \n",
    "# headers = {\"cookie\": \"CONSENT=YES+cb.20240430-04-p0.en+FX+908\"\n",
    "headers = {'user-agent': 'Mozilla/5.0 (Windows NT 10.0;  Win64; x64) AppleWebKit/537.36 (KHTML, like Gecko) Chrome/84.0.4147.105 Safari/537.36'} "
   ]
  },
  {
   "cell_type": "code",
   "execution_count": 15,
   "id": "65146f02-f247-46bd-b58a-780d0420284a",
   "metadata": {
    "tags": []
   },
   "outputs": [],
   "source": [
    "urls = [\n",
    "    # 'https://www.investing.com/equities/nike',\n",
    "    # 'https://www.investing.com/equities/coca-cola-co',\n",
    "    # 'https://www.investing.com/equities/microsoft-corp',\n",
    "    # 'https://www.investing.com/equities/3m-co',\n",
    "    # 'https://www.investing.com/equities/american-express',\n",
    "    # 'https://www.investing.com/equities/amgen-inc',\n",
    "    # 'https://www.investing.com/equities/apple-computer-inc',\n",
    "    # 'https://www.investing.com/equities/boeing-co',\n",
    "    # 'https://www.investing.com/equities/cisco-sys-inc',\n",
    "    # 'https://www.investing.com/equities/goldman-sachs-group',\n",
    "    'https://www.investing.com/equities/ibm',\n",
    "    'https://www.investing.com/equities/intel-corp',\n",
    "    # 'https://www.investing.com/equities/jp-morgan-chase',\n",
    "    # 'https://www.investing.com/equities/mcdonalds',\n",
    "    # 'https://www.investing.com/equities/salesforce-com',\n",
    "    # 'https://www.investing.com/equities/verizon-communications',\n",
    "    # 'https://www.investing.com/equities/visa-inc',\n",
    "    # 'https://www.investing.com/equities/wal-mart-stores',\n",
    "    # 'https://www.investing.com/equities/disney',\n",
    "    ]"
   ]
  },
  {
   "cell_type": "code",
   "execution_count": 5,
   "id": "e14cfac8-a90f-45a3-8052-9069f811b516",
   "metadata": {
    "tags": []
   },
   "outputs": [
    {
     "name": "stdout",
     "output_type": "stream",
     "text": [
      "Collecting cloudscraper\n",
      "  Downloading cloudscraper-1.2.71-py2.py3-none-any.whl.metadata (19 kB)\n",
      "Requirement already satisfied: pyparsing>=2.4.7 in c:\\users\\akbar\\miniconda3\\lib\\site-packages (from cloudscraper) (3.1.2)\n",
      "Requirement already satisfied: requests>=2.9.2 in c:\\users\\akbar\\miniconda3\\lib\\site-packages (from cloudscraper) (2.31.0)\n",
      "Collecting requests-toolbelt>=0.9.1 (from cloudscraper)\n",
      "  Downloading requests_toolbelt-1.0.0-py2.py3-none-any.whl.metadata (14 kB)\n",
      "Requirement already satisfied: charset-normalizer<4,>=2 in c:\\users\\akbar\\miniconda3\\lib\\site-packages (from requests>=2.9.2->cloudscraper) (2.0.4)\n",
      "Requirement already satisfied: idna<4,>=2.5 in c:\\users\\akbar\\miniconda3\\lib\\site-packages (from requests>=2.9.2->cloudscraper) (3.4)\n",
      "Requirement already satisfied: urllib3<3,>=1.21.1 in c:\\users\\akbar\\miniconda3\\lib\\site-packages (from requests>=2.9.2->cloudscraper) (2.1.0)\n",
      "Requirement already satisfied: certifi>=2017.4.17 in c:\\users\\akbar\\miniconda3\\lib\\site-packages (from requests>=2.9.2->cloudscraper) (2024.2.2)\n",
      "Downloading cloudscraper-1.2.71-py2.py3-none-any.whl (99 kB)\n",
      "   ---------------------------------------- 0.0/99.7 kB ? eta -:--:--\n",
      "   ---- ----------------------------------- 10.2/99.7 kB ? eta -:--:--\n",
      "   ---- ----------------------------------- 10.2/99.7 kB ? eta -:--:--\n",
      "   ------------ --------------------------- 30.7/99.7 kB 325.1 kB/s eta 0:00:01\n",
      "   ------------ --------------------------- 30.7/99.7 kB 325.1 kB/s eta 0:00:01\n",
      "   ------------ --------------------------- 30.7/99.7 kB 325.1 kB/s eta 0:00:01\n",
      "   ------------------------ --------------- 61.4/99.7 kB 218.8 kB/s eta 0:00:01\n",
      "   ------------------------ --------------- 61.4/99.7 kB 218.8 kB/s eta 0:00:01\n",
      "   ---------------------------- ----------- 71.7/99.7 kB 187.3 kB/s eta 0:00:01\n",
      "   ---------------------------- ----------- 71.7/99.7 kB 187.3 kB/s eta 0:00:01\n",
      "   ---------------------------- ----------- 71.7/99.7 kB 187.3 kB/s eta 0:00:01\n",
      "   ---------------------------- ----------- 71.7/99.7 kB 187.3 kB/s eta 0:00:01\n",
      "   ---------------------------- ----------- 71.7/99.7 kB 187.3 kB/s eta 0:00:01\n",
      "   ------------------------------------ --- 92.2/99.7 kB 154.3 kB/s eta 0:00:01\n",
      "   ---------------------------------------- 99.7/99.7 kB 150.5 kB/s eta 0:00:00\n",
      "Downloading requests_toolbelt-1.0.0-py2.py3-none-any.whl (54 kB)\n",
      "   ---------------------------------------- 0.0/54.5 kB ? eta -:--:--\n",
      "   ---------------------------------------- 0.0/54.5 kB ? eta -:--:--\n",
      "   ------- -------------------------------- 10.2/54.5 kB ? eta -:--:--\n",
      "   ---------------------- ----------------- 30.7/54.5 kB 325.1 kB/s eta 0:00:01\n",
      "   ---------------------- ----------------- 30.7/54.5 kB 325.1 kB/s eta 0:00:01\n",
      "   ---------------------------------------- 54.5/54.5 kB 313.8 kB/s eta 0:00:00\n",
      "Installing collected packages: requests-toolbelt, cloudscraper\n",
      "Successfully installed cloudscraper-1.2.71 requests-toolbelt-1.0.0\n"
     ]
    }
   ],
   "source": [
    "!pip install cloudscraper"
   ]
  },
  {
   "cell_type": "code",
   "execution_count": 18,
   "id": "98a1c6bf-c16b-4473-882f-4aca34a28bb4",
   "metadata": {
    "tags": []
   },
   "outputs": [
    {
     "name": "stdout",
     "output_type": "stream",
     "text": [
      "sukses\n",
      "[['Intel Corporation (INTC)', '30.97']]\n"
     ]
    }
   ],
   "source": [
    "import cloudscraper \n",
    " \n",
    "scraper = cloudscraper.create_scraper(delay=10, browser=\"chrome\") \n",
    "content = scraper.get('https://www.investing.com/equities/intel-corp').text \n",
    "all = []\n",
    "print(\"sukses\")\n",
    "\n",
    "try: \n",
    "    soup = BeautifulSoup(content,'html.parser') \n",
    "    # print(soup.prettify())\n",
    "    company = soup.find('h1', {'class':'mb-2.5 text-left text-xl font-bold leading-7 text-[#232526] md:mb-2 md:text-3xl md:leading-8 rtl:soft-ltr'}).text\n",
    "    price = soup.find('div', {'class':'text-5xl/9 font-bold text-[#232526] md:text-[42px] md:leading-[60px]'}).text \n",
    "    # change = soup.find('div', {'class':'instrument-price_instrument-price__xfgbB flex items-end flex-wrap font-bold'}).find_all('span')[2].text \n",
    "    # volume = soup.find('div',{'class':'trading-hours_value__5_NnB'}).text \n",
    "    x= [company, price] #, price] #,price,change,volume] \n",
    "    all.append(x) \n",
    "    print(all)\n",
    "# <h1 class=\"mb-2.5 text-left text-xl font-bold leading-7 text-[#232526] md:mb-2 md:text-3xl md:leading-8 rtl:soft-ltr\">McDonald’s Corporation (MCD)</h1>\n",
    "except AttributeError: \n",
    "    print(\"Change the Element id\")"
   ]
  },
  {
   "cell_type": "code",
   "execution_count": 9,
   "id": "1d204681-f135-468d-9feb-c9670f29f68b",
   "metadata": {
    "tags": []
   },
   "outputs": [
    {
     "name": "stderr",
     "output_type": "stream",
     "text": [
      "<>:1: SyntaxWarning: invalid escape sequence '\\A'\n",
      "<>:1: SyntaxWarning: invalid escape sequence '\\A'\n",
      "C:\\Users\\akbar\\AppData\\Local\\Temp\\ipykernel_25568\\4001191507.py:1: SyntaxWarning: invalid escape sequence '\\A'\n",
      "  url = \"D:\\Any Tugas-er\\Smt 8\\Data Visualisasi\\Jupyter lab\\Webpages\\McDonald's Stock Price Today _ NYSE MCD Live Ticker - Investing.com.html.html\"\n"
     ]
    },
    {
     "name": "stdout",
     "output_type": "stream",
     "text": [
      "jumlah match:  1\n",
      "['McDonald’s Corporation (MCD)', '273.55']\n"
     ]
    }
   ],
   "source": [
    "url = \"D:\\Any Tugas-er\\Smt 8\\Data Visualisasi\\Jupyter lab\\Webpages\\McDonald's Stock Price Today _ NYSE MCD Live Ticker - Investing.com.html.html\"\n",
    "# page = requests.get(url,headers=headers) \n",
    "# page = open(url)\n",
    "all = []\n",
    "file = open(url, \"r\", encoding=\"utf-8\") \n",
    "  \n",
    "# Reading the file and storing in a variable \n",
    "contents = file.read() \n",
    "  \n",
    "# Creating a BeautifulSoup object and \n",
    "# specifying the parser  \n",
    "soup = BeautifulSoup(contents, 'html.parser') \n",
    "\n",
    "\n",
    "try: \n",
    "    # soup = BeautifulSoup(page.text,'html.parser') \n",
    "    company = soup.find('h1', {'class':'mb-2.5 text-left text-xl font-bold leading-7 text-[#232526] md:mb-2 md:text-3xl md:leading-8 rtl:soft-ltr'}).text\n",
    "    # price = soup.find('div', {'class':'instrument-price_instrument-price__xfgbB flex items-end flex-wrap font-bold'}).find_all('span')[0].text \n",
    "    price = soup.find('div', {'class':'text-5xl/9 font-bold text-[#232526] md:text-[42px] md:leading-[60px]'}).text\n",
    "    \n",
    "    \n",
    "    # change = soup.find('div', {'class':'instrument-price_instrument-price__xfgbB flex items-end flex-wrap font-bold'}).find_all('span')[2].text \n",
    "    # volume = soup.find('div',{'class':'trading-hours_value__5_NnB'}).text \n",
    "    x= [company, price] #,price,change,volume] \n",
    "    all.append(x) \n",
    "# <h1 class=\"mb-2.5 text-left text-xl font-bold leading-7 text-[#232526] md:mb-2 md:text-3xl md:leading-8 rtl:soft-ltr\">McDonald’s Corporation (MCD)</h1>\n",
    "except AttributeError: \n",
    "    print(\"Gagal mencari attribute\")\n",
    "\n",
    "print(\"jumlah match: \", len(all))\n",
    "for a in all:\n",
    "    print(a)"
   ]
  },
  {
   "cell_type": "code",
   "execution_count": 20,
   "id": "19ebfe18-9548-4f65-8be0-dab28288958c",
   "metadata": {},
   "outputs": [
    {
     "name": "stdout",
     "output_type": "stream",
     "text": [
      "Scraping successful.\n",
      "['Nike Inc (NKE)', '93.36']\n",
      "['Coca-Cola Co (KO)', '62.36']\n"
     ]
    }
   ],
   "source": [
    "import cloudscraper \n",
    "from bs4 import BeautifulSoup\n",
    "\n",
    "# Create a cloudscraper instance\n",
    "scraper = cloudscraper.create_scraper(delay=10, browser=\"chrome\")\n",
    "\n",
    "# List of URLs to scrape\n",
    "urls = [\n",
    "    'https://www.investing.com/equities/nike',\n",
    "    'https://www.investing.com/equities/coca-cola-co',\n",
    "]\n",
    "\n",
    "# List to store all scraped data\n",
    "all_data = []\n",
    "\n",
    "try: \n",
    "    for url in urls:\n",
    "        # Scrape data from the current URL\n",
    "        content = scraper.get(url).text \n",
    "        soup = BeautifulSoup(content, 'html.parser') \n",
    "        \n",
    "        # Extract relevant data from the current page\n",
    "        company = soup.find('h1', {'class':'mb-2.5 text-left text-xl font-bold leading-7 text-[#232526] md:mb-2 md:text-3xl md:leading-8 rtl:soft-ltr'}).text\n",
    "        price = soup.find('div', {'class':'text-5xl/9 font-bold text-[#232526] md:text-[42px] md:leading-[60px]'}).text \n",
    "        \n",
    "        # Append the extracted data as a new row\n",
    "        all_data.append([company, price])\n",
    "\n",
    "    print(\"Scraping successful.\")\n",
    "\n",
    "except AttributeError: \n",
    "    print(\"Change the Element id\")\n",
    "\n",
    "for row in all_data:\n",
    "    print(row)\n"
   ]
  },
  {
   "cell_type": "code",
   "execution_count": null,
   "id": "811068a2-616b-4557-89da-5ea2240e5728",
   "metadata": {},
   "outputs": [],
   "source": []
  }
 ],
 "metadata": {
  "kernelspec": {
   "display_name": "Python 3 (ipykernel)",
   "language": "python",
   "name": "python3"
  },
  "language_info": {
   "codemirror_mode": {
    "name": "ipython",
    "version": 3
   },
   "file_extension": ".py",
   "mimetype": "text/x-python",
   "name": "python",
   "nbconvert_exporter": "python",
   "pygments_lexer": "ipython3",
   "version": "3.12.2"
  }
 },
 "nbformat": 4,
 "nbformat_minor": 5
}
